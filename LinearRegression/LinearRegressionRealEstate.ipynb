{
 "cells": [
  {
   "cell_type": "code",
   "execution_count": 491,
   "metadata": {},
   "outputs": [],
   "source": [
    "import pandas as pd\n",
    "import statistics\n",
    "import numpy\n",
    "from sklearn import linear_model\n",
    "import matplotlib.pyplot as plt\n",
    "from sklearn.model_selection import train_test_split"
   ]
  },
  {
   "cell_type": "code",
   "execution_count": 447,
   "metadata": {},
   "outputs": [],
   "source": [
    "data = pd.read_csv(\"Real estate.csv\")"
   ]
  },
  {
   "cell_type": "code",
   "execution_count": 448,
   "metadata": {},
   "outputs": [
    {
     "data": {
      "text/html": [
       "<div>\n",
       "<style scoped>\n",
       "    .dataframe tbody tr th:only-of-type {\n",
       "        vertical-align: middle;\n",
       "    }\n",
       "\n",
       "    .dataframe tbody tr th {\n",
       "        vertical-align: top;\n",
       "    }\n",
       "\n",
       "    .dataframe thead th {\n",
       "        text-align: right;\n",
       "    }\n",
       "</style>\n",
       "<table border=\"1\" class=\"dataframe\">\n",
       "  <thead>\n",
       "    <tr style=\"text-align: right;\">\n",
       "      <th></th>\n",
       "      <th>No</th>\n",
       "      <th>X1 transaction date</th>\n",
       "      <th>X2 house age</th>\n",
       "      <th>X3 distance to the nearest MRT station</th>\n",
       "      <th>X4 number of convenience stores</th>\n",
       "      <th>X5 latitude</th>\n",
       "      <th>X6 longitude</th>\n",
       "      <th>Y house price of unit area</th>\n",
       "    </tr>\n",
       "  </thead>\n",
       "  <tbody>\n",
       "    <tr>\n",
       "      <td>0</td>\n",
       "      <td>1</td>\n",
       "      <td>2012.917</td>\n",
       "      <td>32.0</td>\n",
       "      <td>84.87882</td>\n",
       "      <td>10</td>\n",
       "      <td>24.98298</td>\n",
       "      <td>121.54024</td>\n",
       "      <td>37.9</td>\n",
       "    </tr>\n",
       "    <tr>\n",
       "      <td>1</td>\n",
       "      <td>2</td>\n",
       "      <td>2012.917</td>\n",
       "      <td>19.5</td>\n",
       "      <td>306.59470</td>\n",
       "      <td>9</td>\n",
       "      <td>24.98034</td>\n",
       "      <td>121.53951</td>\n",
       "      <td>42.2</td>\n",
       "    </tr>\n",
       "    <tr>\n",
       "      <td>2</td>\n",
       "      <td>3</td>\n",
       "      <td>2013.583</td>\n",
       "      <td>13.3</td>\n",
       "      <td>561.98450</td>\n",
       "      <td>5</td>\n",
       "      <td>24.98746</td>\n",
       "      <td>121.54391</td>\n",
       "      <td>47.3</td>\n",
       "    </tr>\n",
       "    <tr>\n",
       "      <td>3</td>\n",
       "      <td>4</td>\n",
       "      <td>2013.500</td>\n",
       "      <td>13.3</td>\n",
       "      <td>561.98450</td>\n",
       "      <td>5</td>\n",
       "      <td>24.98746</td>\n",
       "      <td>121.54391</td>\n",
       "      <td>54.8</td>\n",
       "    </tr>\n",
       "    <tr>\n",
       "      <td>4</td>\n",
       "      <td>5</td>\n",
       "      <td>2012.833</td>\n",
       "      <td>5.0</td>\n",
       "      <td>390.56840</td>\n",
       "      <td>5</td>\n",
       "      <td>24.97937</td>\n",
       "      <td>121.54245</td>\n",
       "      <td>43.1</td>\n",
       "    </tr>\n",
       "    <tr>\n",
       "      <td>...</td>\n",
       "      <td>...</td>\n",
       "      <td>...</td>\n",
       "      <td>...</td>\n",
       "      <td>...</td>\n",
       "      <td>...</td>\n",
       "      <td>...</td>\n",
       "      <td>...</td>\n",
       "      <td>...</td>\n",
       "    </tr>\n",
       "    <tr>\n",
       "      <td>409</td>\n",
       "      <td>410</td>\n",
       "      <td>2013.000</td>\n",
       "      <td>13.7</td>\n",
       "      <td>4082.01500</td>\n",
       "      <td>0</td>\n",
       "      <td>24.94155</td>\n",
       "      <td>121.50381</td>\n",
       "      <td>15.4</td>\n",
       "    </tr>\n",
       "    <tr>\n",
       "      <td>410</td>\n",
       "      <td>411</td>\n",
       "      <td>2012.667</td>\n",
       "      <td>5.6</td>\n",
       "      <td>90.45606</td>\n",
       "      <td>9</td>\n",
       "      <td>24.97433</td>\n",
       "      <td>121.54310</td>\n",
       "      <td>50.0</td>\n",
       "    </tr>\n",
       "    <tr>\n",
       "      <td>411</td>\n",
       "      <td>412</td>\n",
       "      <td>2013.250</td>\n",
       "      <td>18.8</td>\n",
       "      <td>390.96960</td>\n",
       "      <td>7</td>\n",
       "      <td>24.97923</td>\n",
       "      <td>121.53986</td>\n",
       "      <td>40.6</td>\n",
       "    </tr>\n",
       "    <tr>\n",
       "      <td>412</td>\n",
       "      <td>413</td>\n",
       "      <td>2013.000</td>\n",
       "      <td>8.1</td>\n",
       "      <td>104.81010</td>\n",
       "      <td>5</td>\n",
       "      <td>24.96674</td>\n",
       "      <td>121.54067</td>\n",
       "      <td>52.5</td>\n",
       "    </tr>\n",
       "    <tr>\n",
       "      <td>413</td>\n",
       "      <td>414</td>\n",
       "      <td>2013.500</td>\n",
       "      <td>6.5</td>\n",
       "      <td>90.45606</td>\n",
       "      <td>9</td>\n",
       "      <td>24.97433</td>\n",
       "      <td>121.54310</td>\n",
       "      <td>63.9</td>\n",
       "    </tr>\n",
       "  </tbody>\n",
       "</table>\n",
       "<p>414 rows × 8 columns</p>\n",
       "</div>"
      ],
      "text/plain": [
       "      No  X1 transaction date  X2 house age  \\\n",
       "0      1             2012.917          32.0   \n",
       "1      2             2012.917          19.5   \n",
       "2      3             2013.583          13.3   \n",
       "3      4             2013.500          13.3   \n",
       "4      5             2012.833           5.0   \n",
       "..   ...                  ...           ...   \n",
       "409  410             2013.000          13.7   \n",
       "410  411             2012.667           5.6   \n",
       "411  412             2013.250          18.8   \n",
       "412  413             2013.000           8.1   \n",
       "413  414             2013.500           6.5   \n",
       "\n",
       "     X3 distance to the nearest MRT station  X4 number of convenience stores  \\\n",
       "0                                  84.87882                               10   \n",
       "1                                 306.59470                                9   \n",
       "2                                 561.98450                                5   \n",
       "3                                 561.98450                                5   \n",
       "4                                 390.56840                                5   \n",
       "..                                      ...                              ...   \n",
       "409                              4082.01500                                0   \n",
       "410                                90.45606                                9   \n",
       "411                               390.96960                                7   \n",
       "412                               104.81010                                5   \n",
       "413                                90.45606                                9   \n",
       "\n",
       "     X5 latitude  X6 longitude  Y house price of unit area  \n",
       "0       24.98298     121.54024                        37.9  \n",
       "1       24.98034     121.53951                        42.2  \n",
       "2       24.98746     121.54391                        47.3  \n",
       "3       24.98746     121.54391                        54.8  \n",
       "4       24.97937     121.54245                        43.1  \n",
       "..           ...           ...                         ...  \n",
       "409     24.94155     121.50381                        15.4  \n",
       "410     24.97433     121.54310                        50.0  \n",
       "411     24.97923     121.53986                        40.6  \n",
       "412     24.96674     121.54067                        52.5  \n",
       "413     24.97433     121.54310                        63.9  \n",
       "\n",
       "[414 rows x 8 columns]"
      ]
     },
     "execution_count": 448,
     "metadata": {},
     "output_type": "execute_result"
    }
   ],
   "source": [
    "data"
   ]
  },
  {
   "cell_type": "code",
   "execution_count": 449,
   "metadata": {},
   "outputs": [],
   "source": [
    "data.drop(labels = [\"No\"], axis = 1, inplace = True)"
   ]
  },
  {
   "cell_type": "code",
   "execution_count": 450,
   "metadata": {},
   "outputs": [
    {
     "name": "stdout",
     "output_type": "stream",
     "text": [
      "X1 transaction date\n",
      "X2 house age\n",
      "X3 distance to the nearest MRT station\n",
      "X4 number of convenience stores\n",
      "X5 latitude\n",
      "X6 longitude\n",
      "Y house price of unit area\n"
     ]
    }
   ],
   "source": [
    "for column_name in data.columns :\n",
    "    print(column_name)"
   ]
  },
  {
   "cell_type": "code",
   "execution_count": 451,
   "metadata": {},
   "outputs": [],
   "source": [
    "data.columns = [\"X1\", \"X2\", \"X3\", \"X4\", \"X5\", \"X6\", \"Y\"]\n",
    "num_columns = len(data.columns)\n",
    "num_features = num_columns - 1"
   ]
  },
  {
   "cell_type": "code",
   "execution_count": 452,
   "metadata": {},
   "outputs": [],
   "source": [
    "inputs = data[[\"X1\", \"X2\", \"X3\", \"X4\", \"X5\", \"X6\"]]\n",
    "output = data[[\"Y\"]]\n",
    "X = inputs.to_numpy()\n",
    "y = output.to_numpy()"
   ]
  },
  {
   "cell_type": "code",
   "execution_count": 453,
   "metadata": {},
   "outputs": [
    {
     "name": "stdout",
     "output_type": "stream",
     "text": [
      "Maximum value of X1 = 2013.5829999999999\n",
      "Minimum value of X1 = 2012.6670000000001\n",
      "Maximum value of X2 = 43.8\n",
      "Minimum value of X2 = 0.0\n",
      "Maximum value of X3 = 6488.021\n",
      "Minimum value of X3 = 23.382839999999998\n",
      "Maximum value of X4 = 10\n",
      "Minimum value of X4 = 0\n",
      "Maximum value of X5 = 25.01459\n",
      "Minimum value of X5 = 24.93207\n",
      "Maximum value of X6 = 121.56626999999999\n",
      "Minimum value of X6 = 121.47353000000001\n"
     ]
    }
   ],
   "source": [
    "#mu = []\n",
    "#sigma = []\n",
    "for i in range(num_features) :\n",
    "    column_name = \"X\" + str(i + 1)\n",
    "    print(\"Maximum value of \" + column_name + \" = \" + str(max(inputs[column_name])))\n",
    "    print(\"Minimum value of \" + column_name + \" = \" + str(min(inputs[column_name])))\n",
    "    #mu.append(statistics.mean(inputs[column_name]))\n",
    "    #sigma.append(statistics.stdev(inputs[column_name]))\n",
    "#means = numpy.array(mu)\n",
    "#standard_deviations = numpy.array(sigma)"
   ]
  },
  {
   "cell_type": "code",
   "execution_count": 454,
   "metadata": {},
   "outputs": [],
   "source": [
    "def featureScalingAndNormalization(X):\n",
    "    m, n = X.shape\n",
    "    means = numpy.zeros((1, n), dtype = float)\n",
    "    standard_deviations = numpy.zeros((1, n), dtype = float)\n",
    "    transformed_X = numpy.zeros((m, n), dtype = float)\n",
    "    for i in range(n) :\n",
    "        current_column = X[:, i]\n",
    "        minimum = min(current_column)\n",
    "        current_column = (current_column - minimum) / (max(current_column) - minimum)\n",
    "        transformed_X[:, i] = current_column\n",
    "    return transformed_X"
   ]
  },
  {
   "cell_type": "code",
   "execution_count": 455,
   "metadata": {},
   "outputs": [],
   "source": [
    "transformed_X = generate_quadratic_features(X)\n",
    "transformed_X = featureScalingAndNormalization(transformed_X)"
   ]
  },
  {
   "cell_type": "code",
   "execution_count": 456,
   "metadata": {},
   "outputs": [],
   "source": [
    "#transformed_X = featureScalingAndNormalization(X)"
   ]
  },
  {
   "cell_type": "code",
   "execution_count": 457,
   "metadata": {},
   "outputs": [],
   "source": [
    "#h(x) = theta_0 + theta_1 * X1 + theta_2 * X2 + ... + theta6 * X6\n",
    "m, n = transformed_X.shape\n",
    "initial_theta = numpy.zeros((n + 1, 1), dtype = float)\n",
    "data_matrix_X = numpy.ones((m, n + 1), dtype = float)\n",
    "data_matrix_X[:, 1 : ] = transformed_X"
   ]
  },
  {
   "cell_type": "code",
   "execution_count": 458,
   "metadata": {},
   "outputs": [],
   "source": [
    "def computeCostAndGradient(X, y, theta, regularization_parameter) :\n",
    "    m, n = X.shape\n",
    "    predicted_values = numpy.matmul(X, theta)\n",
    "    predicted_minus_actual = predicted_values - y\n",
    "\n",
    "    theta_for_regularization = theta\n",
    "    theta_for_regularization[0, 0] = 0\n",
    "    \n",
    "    J = (1 / (2 * m)) * (numpy.matmul(predicted_minus_actual.transpose(), predicted_minus_actual) + (regularization_parameter * (numpy.matmul(theta_for_regularization.transpose(), theta_for_regularization))))\n",
    "    gradients = (1 / m) * (numpy.matmul(X.transpose(), predicted_minus_actual) + (regularization_parameter * theta_for_regularization))\n",
    "    return J, gradients"
   ]
  },
  {
   "cell_type": "code",
   "execution_count": 459,
   "metadata": {},
   "outputs": [],
   "source": [
    "def gradientDescent(X, y, initial_theta, regularization_parameter, max_iterations = 100, learning_rate = 0.01) :\n",
    "    J_history = numpy.zeros((max_iterations, 1), dtype = float)\n",
    "    theta = initial_theta\n",
    "    for i in range(max_iterations) :\n",
    "        J_history[i, 0], gradients = computeCostAndGradient(X, y, theta, regularization_parameter)\n",
    "        theta = theta - (learning_rate * gradients)\n",
    "    return J_history, theta"
   ]
  },
  {
   "cell_type": "code",
   "execution_count": 460,
   "metadata": {},
   "outputs": [],
   "source": [
    "X_train = data_matrix_X[:-1,:]\n",
    "X_test = data_matrix_X[-1, :]\n",
    "y_train = y[:-1, :]\n",
    "y_test = y[-1, :]"
   ]
  },
  {
   "cell_type": "code",
   "execution_count": 484,
   "metadata": {},
   "outputs": [],
   "source": [
    "J_history, theta = gradientDescent(X_train, y_train, initial_theta, 0, learning_rate = 0.1, max_iterations = 10000)"
   ]
  },
  {
   "cell_type": "code",
   "execution_count": 462,
   "metadata": {},
   "outputs": [],
   "source": [
    "def predict(X, theta) :\n",
    "    predicted = numpy.matmul(X, theta)\n",
    "    return predicted"
   ]
  },
  {
   "cell_type": "code",
   "execution_count": 486,
   "metadata": {},
   "outputs": [],
   "source": [
    "predicted_values = predict(X_test, theta)"
   ]
  },
  {
   "cell_type": "code",
   "execution_count": 445,
   "metadata": {},
   "outputs": [],
   "source": [
    "def generate_quadratic_features(X) :\n",
    "    m, n = X.shape\n",
    "    total_new_features = int((n * (n + 1)) / 2)\n",
    "    new_features = numpy.zeros((m, total_new_features), dtype = float)\n",
    "    k = 0\n",
    "    \n",
    "    for i in range(n) :\n",
    "        for j in range(i, n) :\n",
    "            new_features[:, k] = X[:, i] * X[:, j]\n",
    "            k = k + 1\n",
    "    \n",
    "    #print(new_features[0])\n",
    "    X_with_quadratic_features = numpy.zeros((m, n + total_new_features), dtype = float)\n",
    "    X_with_quadratic_features[:, range(n)] = X\n",
    "    #print(X_with_quadratic_features[0])\n",
    "    X_with_quadratic_features[:, range(n, n + total_new_features)] = new_features\n",
    "    #print(X_with_quadratic_features[0])\n",
    "    \n",
    "    return X_with_quadratic_features"
   ]
  },
  {
   "cell_type": "code",
   "execution_count": 485,
   "metadata": {},
   "outputs": [
    {
     "data": {
      "text/plain": [
       "array([[810.61880145],\n",
       "       [224.09032388],\n",
       "       [140.93212408],\n",
       "       ...,\n",
       "       [ 35.37014512],\n",
       "       [ 35.37000504],\n",
       "       [ 35.36986496]])"
      ]
     },
     "execution_count": 485,
     "metadata": {},
     "output_type": "execute_result"
    }
   ],
   "source": [
    "J_history"
   ]
  },
  {
   "cell_type": "code",
   "execution_count": 487,
   "metadata": {},
   "outputs": [
    {
     "data": {
      "text/plain": [
       "array([57.1427201])"
      ]
     },
     "execution_count": 487,
     "metadata": {},
     "output_type": "execute_result"
    }
   ],
   "source": [
    "predicted_values"
   ]
  },
  {
   "cell_type": "code",
   "execution_count": 488,
   "metadata": {},
   "outputs": [
    {
     "data": {
      "text/plain": [
       "array([63.9])"
      ]
     },
     "execution_count": 488,
     "metadata": {},
     "output_type": "execute_result"
    }
   ],
   "source": [
    "y_test"
   ]
  },
  {
   "cell_type": "code",
   "execution_count": 489,
   "metadata": {},
   "outputs": [],
   "source": [
    "lm = linear_model.LinearRegression()\n",
    "model = lm.fit(inputs.iloc[:-1], output.iloc[:-1])\n",
    "sklearn_predictions = model.predict(inputs.iloc[-1].to_numpy().reshape(1, -1))"
   ]
  },
  {
   "cell_type": "code",
   "execution_count": 490,
   "metadata": {},
   "outputs": [
    {
     "data": {
      "text/plain": [
       "array([[53.7398457]])"
      ]
     },
     "execution_count": 490,
     "metadata": {},
     "output_type": "execute_result"
    }
   ],
   "source": [
    "sklearn_predictions"
   ]
  },
  {
   "cell_type": "code",
   "execution_count": 493,
   "metadata": {},
   "outputs": [
    {
     "data": {
      "image/png": "[encoded data removed]",
      "text/plain": [
       "<Figure size 432x288 with 1 Axes>"
      ]
     },
     "metadata": {
      "needs_background": "light"
     },
     "output_type": "display_data"
    }
   ],
   "source": [
    "plt.scatter(range(1, 10001), J_history)\n",
    "plt.show()"
   ]
  },
  {
   "cell_type": "code",
   "execution_count": null,
   "metadata": {},
   "outputs": [],
   "source": []
  }
 ],
 "metadata": {
  "kernelspec": {
   "display_name": "Python 3",
   "language": "python",
   "name": "python3"
  },
  "language_info": {
   "codemirror_mode": {
    "name": "ipython",
    "version": 3
   },
   "file_extension": ".py",
   "mimetype": "text/x-python",
   "name": "python",
   "nbconvert_exporter": "python",
   "pygments_lexer": "ipython3",
   "version": "3.7.4"
  }
 },
 "nbformat": 4,
 "nbformat_minor": 2
}
